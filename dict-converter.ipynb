{
 "cells": [
  {
   "cell_type": "code",
   "execution_count": 1,
   "metadata": {},
   "outputs": [],
   "source": [
    "with open('smalldict.txt', 'r') as file:\n",
    "    data = file.read().replace('\\n', ',')"
   ]
  },
  {
   "cell_type": "code",
   "execution_count": 2,
   "metadata": {},
   "outputs": [],
   "source": [
    "my_list = data.split(\",\")"
   ]
  },
  {
   "cell_type": "code",
   "execution_count": 3,
   "metadata": {},
   "outputs": [],
   "source": [
    "formatted = []\n",
    "for word in my_list:\n",
    "    formatted.append(\"\\'{}\\'\".format(word))"
   ]
  },
  {
   "cell_type": "code",
   "execution_count": 4,
   "metadata": {},
   "outputs": [],
   "source": [
    "mydict = \"let dict=[\"+\",\".join(formatted)+\"]\""
   ]
  },
  {
   "cell_type": "code",
   "execution_count": 5,
   "metadata": {},
   "outputs": [
    {
     "data": {
      "text/plain": [
       "\"let dict=['AA','AAH','AAHED','AAHING','AAHS','AAL','AALII','AALIIS','AALS','AARDVARK','AARDVARKS','AARDWOLF','AARDWOLVES','AARGH','AARRGH','AARRGHH','AARTI','AARTIS','AAS','AASVOGEL','AASVOGELS','AB','ABA','ABAC','ABACA','ABACAS','ABACI','ABACK','ABACS','ABACTERIAL','ABACTINAL','ABACTINALLY','ABACTOR','ABACTORS','ABACUS','ABACUSES','ABAFT','ABAKA']\""
      ]
     },
     "execution_count": 5,
     "metadata": {},
     "output_type": "execute_result"
    }
   ],
   "source": [
    "mydict"
   ]
  },
  {
   "cell_type": "code",
   "execution_count": 6,
   "metadata": {},
   "outputs": [],
   "source": [
    "f = open(\"dictformatted.txt\", \"w\")\n",
    "f.write(mydict)\n",
    "f.close()"
   ]
  },
  {
   "cell_type": "code",
   "execution_count": null,
   "metadata": {},
   "outputs": [],
   "source": []
  }
 ],
 "metadata": {
  "kernelspec": {
   "display_name": "Python 3",
   "language": "python",
   "name": "python3"
  },
  "language_info": {
   "codemirror_mode": {
    "name": "ipython",
    "version": 3
   },
   "file_extension": ".py",
   "mimetype": "text/x-python",
   "name": "python",
   "nbconvert_exporter": "python",
   "pygments_lexer": "ipython3",
   "version": "3.8.3"
  }
 },
 "nbformat": 4,
 "nbformat_minor": 4
}
